{
 "cells": [
  {
   "cell_type": "code",
   "execution_count": null,
   "metadata": {},
   "outputs": [],
   "source": [
    "# part 1: perform EBM analysis on the DeepMIP data\n",
    "# we perform analysis on common r180x90 grid for all models\n",
    "#  interpolation has been done with the `regrid_deepmip_database_v1.0.sh`script\n",
    "\n",
    "import numpy as np\n",
    "import xarray as xr\n",
    "import os\n",
    "\n",
    "from deepmip_dict import deepmip_dict\n",
    "\n"
   ]
  }
 ],
 "metadata": {
  "language_info": {
   "name": "python"
  }
 },
 "nbformat": 4,
 "nbformat_minor": 2
}
